{
 "cells": [
  {
   "cell_type": "code",
   "execution_count": 4,
   "metadata": {
    "collapsed": true
   },
   "outputs": [],
   "source": [
    "from sklearn.datasets import load_breast_cancer, load_digits\n",
    "from sklearn.cross_validation import cross_val_score\n",
    "from sklearn.naive_bayes import BernoulliNB, GaussianNB, MultinomialNB\n",
    "import numpy as np\n",
    "import matplotlib.pyplot as plt\n",
    "%matplotlib inline"
   ]
  },
  {
   "cell_type": "code",
   "execution_count": 2,
   "metadata": {
    "collapsed": true
   },
   "outputs": [],
   "source": [
    "digits = load_digits()\n",
    "breast_cancer = load_breast_cancer()\n",
    "X_digits = digits['data']\n",
    "y_digits = digits['target']\n",
    "X_bc = breast_cancer['data']\n",
    "y_bc = breast_cancer['target']"
   ]
  },
  {
   "cell_type": "code",
   "execution_count": 8,
   "metadata": {
    "collapsed": false
   },
   "outputs": [
    {
     "name": "stdout",
     "output_type": "stream",
     "text": [
      "digits <class 'sklearn.naive_bayes.BernoulliNB'> 0.8258236507780582\n",
      "digits <class 'sklearn.naive_bayes.GaussianNB'> 0.8186003803550138\n",
      "digits <class 'sklearn.naive_bayes.MultinomialNB'> 0.8708771489735053\n",
      "breast_cancer <class 'sklearn.naive_bayes.BernoulliNB'> 0.6274204028589994\n",
      "breast_cancer <class 'sklearn.naive_bayes.GaussianNB'> 0.9367492806089297\n",
      "breast_cancer <class 'sklearn.naive_bayes.MultinomialNB'> 0.8945790401930752\n"
     ]
    }
   ],
   "source": [
    "clfs = [BernoulliNB(), GaussianNB(), MultinomialNB()]\n",
    "Xs = [X_digits, X_bc]\n",
    "ys = [y_digits, y_bc]\n",
    "ds_name = [\"digits\", \"breast_cancer\"]\n",
    "for X, y, name in zip(Xs, ys, ds_name):\n",
    "    for clf in clfs:\n",
    "        print(\"{} {} {}\".format(name, type(clf), cross_val_score(clf, X, y).mean()))"
   ]
  },
  {
   "cell_type": "code",
   "execution_count": 12,
   "metadata": {
    "collapsed": false
   },
   "outputs": [],
   "source": [
    "!echo \"0.9367492806089297\" > answer1.txt"
   ]
  },
  {
   "cell_type": "code",
   "execution_count": 13,
   "metadata": {
    "collapsed": true
   },
   "outputs": [],
   "source": [
    "!echo \"0.8708771489735053\" > answer2.txt"
   ]
  },
  {
   "cell_type": "code",
   "execution_count": 14,
   "metadata": {
    "collapsed": true
   },
   "outputs": [],
   "source": [
    "!echo \"3 4\" >> answer3.txt"
   ]
  },
  {
   "cell_type": "code",
   "execution_count": null,
   "metadata": {
    "collapsed": true
   },
   "outputs": [],
   "source": []
  }
 ],
 "metadata": {
  "anaconda-cloud": {},
  "kernelspec": {
   "display_name": "Python [Root]",
   "language": "python",
   "name": "Python [Root]"
  },
  "language_info": {
   "codemirror_mode": {
    "name": "ipython",
    "version": 3
   },
   "file_extension": ".py",
   "mimetype": "text/x-python",
   "name": "python",
   "nbconvert_exporter": "python",
   "pygments_lexer": "ipython3",
   "version": "3.5.2"
  }
 },
 "nbformat": 4,
 "nbformat_minor": 0
}
